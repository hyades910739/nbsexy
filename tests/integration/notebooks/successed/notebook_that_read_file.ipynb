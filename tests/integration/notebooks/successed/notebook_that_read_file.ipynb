{
 "cells": [
  {
   "cell_type": "markdown",
   "id": "84fa7466-69f8-4ff2-8e43-a85fbfa8b8d3",
   "metadata": {},
   "source": [
    "## Notebook that read file."
   ]
  },
  {
   "cell_type": "code",
   "execution_count": 1,
   "id": "ad228f1c-7b79-4975-bc61-b0664ca8d444",
   "metadata": {},
   "outputs": [],
   "source": [
    "with open('file.txt', 'rt') as f:\n",
    "    lines = f.readlines()\n",
    "assert lines == ['test\\n']"
   ]
  },
  {
   "cell_type": "code",
   "execution_count": null,
   "id": "3ae0e4de-3893-4508-b547-e9c4953cb8e2",
   "metadata": {},
   "outputs": [],
   "source": []
  }
 ],
 "metadata": {
  "kernelspec": {
   "display_name": "Python 3",
   "language": "python",
   "name": "python3"
  },
  "language_info": {
   "codemirror_mode": {
    "name": "ipython",
    "version": 3
   },
   "file_extension": ".py",
   "mimetype": "text/x-python",
   "name": "python",
   "nbconvert_exporter": "python",
   "pygments_lexer": "ipython3",
   "version": "3.6.10"
  }
 },
 "nbformat": 4,
 "nbformat_minor": 5
}
