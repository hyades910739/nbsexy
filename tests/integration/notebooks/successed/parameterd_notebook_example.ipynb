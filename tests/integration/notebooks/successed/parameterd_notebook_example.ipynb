{
 "cells": [
  {
   "cell_type": "markdown",
   "id": "f764b966-050d-4575-819e-126738ba450f",
   "metadata": {},
   "source": [
    "## Markdown cell"
   ]
  },
  {
   "cell_type": "markdown",
   "id": "68fc9732-87b1-4390-a6a6-1ea9bfd01d41",
   "metadata": {},
   "source": [
    "When use `nbsexy --run` to check your notebook. You may found that"
   ]
  },
  {
   "cell_type": "code",
   "execution_count": 1,
   "id": "ac4fac81-7262-4a0c-a14a-ea77610ec71a",
   "metadata": {
    "tags": [
     "nbsexy-parameters"
    ]
   },
   "outputs": [],
   "source": [
    "# add nbsexy-parameters tag to this cell\n",
    "LOOP_LIMIT = 3"
   ]
  },
  {
   "cell_type": "code",
   "execution_count": 2,
   "id": "99cd0c69-2ee7-4671-b544-eff0f7105b85",
   "metadata": {
    "tags": [
     "parameters"
    ]
   },
   "outputs": [],
   "source": [
    "# add parameters  tag to this cell\n",
    "# and do not re-assign value to these variables:\n",
    "LOOP_LIMIT = None"
   ]
  },
  {
   "cell_type": "code",
   "execution_count": 3,
   "id": "6a0715b9-9c44-4b40-b3fa-3a840f811622",
   "metadata": {},
   "outputs": [],
   "source": [
    "from itertools import islice\n",
    "# assume it's a training loop that cause endless time:\n",
    "N_EPOCH = 5e8\n",
    "for epoch in islice(range(int(N_EPOCH)), 0, LOOP_LIMIT):\n",
    "    pass\n",
    "                    "
   ]
  },
  {
   "cell_type": "code",
   "execution_count": 13,
   "id": "5407bb16-5066-4220-bbd7-9ce43b2351f1",
   "metadata": {},
   "outputs": [],
   "source": [
    "path = '/Users/ericlai/Documents/py/prjt-sig/prjt-signature-verification/notebooks/train_inverse_discriminative_network.ipynb'\n",
    "import json\n",
    "with open(path, 'rt') as f:\n",
    "    v = json.load(f)"
   ]
  },
  {
   "cell_type": "code",
   "execution_count": 14,
   "id": "a69d08fb-573c-4719-869f-cfb4679a2116",
   "metadata": {},
   "outputs": [
    {
     "data": {
      "text/plain": [
       "{'accelerator': 'GPU',\n",
       " 'colab': {'name': 'train_inverse_discriminative_network.ipynb',\n",
       "  'provenance': [],\n",
       "  'collapsed_sections': []},\n",
       " 'kernelspec': {'display_name': 'Python 3 (ipykernel)',\n",
       "  'language': 'python',\n",
       "  'name': 'python3'},\n",
       " 'language_info': {'codemirror_mode': {'name': 'ipython', 'version': 3},\n",
       "  'file_extension': '.py',\n",
       "  'mimetype': 'text/x-python',\n",
       "  'name': 'python',\n",
       "  'nbconvert_exporter': 'python',\n",
       "  'pygments_lexer': 'ipython3',\n",
       "  'version': '3.7.9'}}"
      ]
     },
     "execution_count": 14,
     "metadata": {},
     "output_type": "execute_result"
    }
   ],
   "source": [
    "v['metadata']"
   ]
  },
  {
   "cell_type": "code",
   "execution_count": null,
   "id": "9e9b16ed-a9c0-4739-8cc1-f007e5b14985",
   "metadata": {},
   "outputs": [],
   "source": []
  }
 ],
 "metadata": {
  "kernelspec": {
   "display_name": "Python 3",
   "language": "python",
   "name": "python3"
  },
  "language_info": {
   "codemirror_mode": {
    "name": "ipython",
    "version": 3
   },
   "file_extension": ".py",
   "mimetype": "text/x-python",
   "name": "python",
   "nbconvert_exporter": "python",
   "pygments_lexer": "ipython3",
   "version": "3.6.10"
  }
 },
 "nbformat": 4,
 "nbformat_minor": 5
}
