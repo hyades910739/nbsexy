{
 "cells": [
  {
   "cell_type": "code",
   "execution_count": 1,
   "id": "e2004177-1758-4e24-b523-5dd64404143f",
   "metadata": {},
   "outputs": [],
   "source": [
    "for i in range(20):\n",
    "    pass"
   ]
  },
  {
   "cell_type": "code",
   "execution_count": null,
   "id": "24870919-c197-46e4-b969-8dabaa39ec9a",
   "metadata": {},
   "outputs": [],
   "source": [
    "1/0"
   ]
  },
  {
   "cell_type": "code",
   "execution_count": null,
   "id": "aa4bef1a-6c15-4e29-a927-0dbb252cdea4",
   "metadata": {},
   "outputs": [],
   "source": []
  }
 ],
 "metadata": {
  "kernelspec": {
   "display_name": "Python 3",
   "language": "python",
   "name": "python3"
  },
  "language_info": {
   "codemirror_mode": {
    "name": "ipython",
    "version": 3
   },
   "file_extension": ".py",
   "mimetype": "text/x-python",
   "name": "python",
   "nbconvert_exporter": "python",
   "pygments_lexer": "ipython3",
   "version": "3.6.10"
  }
 },
 "nbformat": 4,
 "nbformat_minor": 5
}
