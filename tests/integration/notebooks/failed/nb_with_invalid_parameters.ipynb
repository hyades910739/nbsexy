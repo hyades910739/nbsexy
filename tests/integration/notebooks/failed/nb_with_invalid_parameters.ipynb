{
 "cells": [
  {
   "cell_type": "code",
   "execution_count": 1,
   "id": "a48f2cb0-ab75-4740-9b3c-2110b420661c",
   "metadata": {},
   "outputs": [],
   "source": [
    "import random"
   ]
  },
  {
   "cell_type": "code",
   "execution_count": 9,
   "id": "a12a9227-e12d-4621-a66e-274ba527845d",
   "metadata": {
    "tags": [
     "nbsexy-parameters"
    ]
   },
   "outputs": [],
   "source": [
    "params = (3,10)\n",
    "fun = random.gauss"
   ]
  },
  {
   "cell_type": "code",
   "execution_count": 10,
   "id": "74a44ced-cd8f-4267-8ba0-e7fbd8e17a85",
   "metadata": {
    "tags": [
     "parameters"
    ]
   },
   "outputs": [],
   "source": [
    "params = (3,10)\n",
    "fun = random.randint"
   ]
  },
  {
   "cell_type": "code",
   "execution_count": 11,
   "id": "3b51ca0a-bb93-42c2-9f68-fe350960294e",
   "metadata": {},
   "outputs": [
    {
     "data": {
      "text/plain": [
       "4"
      ]
     },
     "execution_count": 11,
     "metadata": {},
     "output_type": "execute_result"
    }
   ],
   "source": [
    "fun(*params)"
   ]
  },
  {
   "cell_type": "code",
   "execution_count": null,
   "id": "0bdb7fb2-e7b8-4020-9db2-02ecbd1ed069",
   "metadata": {},
   "outputs": [],
   "source": []
  }
 ],
 "metadata": {
  "kernelspec": {
   "display_name": "Python 3",
   "language": "python",
   "name": "python3"
  },
  "language_info": {
   "codemirror_mode": {
    "name": "ipython",
    "version": 3
   },
   "file_extension": ".py",
   "mimetype": "text/x-python",
   "name": "python",
   "nbconvert_exporter": "python",
   "pygments_lexer": "ipython3",
   "version": "3.6.10"
  }
 },
 "nbformat": 4,
 "nbformat_minor": 5
}
