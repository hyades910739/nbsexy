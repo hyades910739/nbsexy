{
 "cells": [
  {
   "cell_type": "code",
   "execution_count": 2,
   "id": "0ca51998-dd72-4178-80e4-9b4c232072ed",
   "metadata": {
    "tags": [
     "nbsexy-parameters"
    ]
   },
   "outputs": [],
   "source": [
    "n = 10\n",
    "foo = 'foo'"
   ]
  },
  {
   "cell_type": "code",
   "execution_count": 3,
   "id": "1fab2773-04bf-4f54-bd7c-2470df32c6ab",
   "metadata": {
    "tags": []
   },
   "outputs": [],
   "source": [
    "# this cell doesnot have 'parameters' tag\n",
    "n = 20"
   ]
  },
  {
   "cell_type": "code",
   "execution_count": null,
   "id": "8734b107-0070-42c3-8205-5ce5f7c67956",
   "metadata": {},
   "outputs": [],
   "source": [
    "print(n)"
   ]
  }
 ],
 "metadata": {
  "kernelspec": {
   "display_name": "Python 3",
   "language": "python",
   "name": "python3"
  },
  "language_info": {
   "codemirror_mode": {
    "name": "ipython",
    "version": 3
   },
   "file_extension": ".py",
   "mimetype": "text/x-python",
   "name": "python",
   "nbconvert_exporter": "python",
   "pygments_lexer": "ipython3",
   "version": "3.6.10"
  }
 },
 "nbformat": 4,
 "nbformat_minor": 5
}
